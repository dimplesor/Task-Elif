{
 "cells": [
  {
   "cell_type": "code",
   "execution_count": 1,
   "id": "2df133bc-3dc6-4dae-8dc5-0a18ab2c9879",
   "metadata": {},
   "outputs": [
    {
     "name": "stdout",
     "output_type": "stream",
     "text": [
      "This is aScienceCopy,Pooja!\n",
      " Laptop \n",
      "///////\n",
      "///////\n",
      "Tommarow is a Holiday \n",
      "///////\n",
      "///////\n"
     ]
    }
   ],
   "source": [
    "\n",
    "# Joint Text\n",
    "Name = \"Pooja\"\n",
    "Copy = \"Science\"\n",
    "\n",
    "if Copy == \"Science\":\n",
    "    Greeting = \"This is a\" + Copy +  \"Copy\" + \",\" + Name + \"!\"\n",
    "\n",
    "else:\n",
    "    Greeting = \"Hello\" + Name + \"!\"\n",
    "    \n",
    "print(Greeting)  \n",
    "\n",
    "\n",
    "\n",
    "# Trim\n",
    "\n",
    "text =\" Laptop \"\n",
    "\n",
    "if text.strip():\n",
    "    print(f'{text}')\n",
    "else:\n",
    "    print('trimmed default method')\n",
    "\n",
    "print('///////')\n",
    "print('///////')\n",
    "\n",
    "\n",
    "# Substitude Text\n",
    "\n",
    "text = \"Today is a Holiday \"\n",
    "\n",
    "if \"Today\" in text:\n",
    "    new_text = text.replace(\"Today\", \"Tommarow\")  \n",
    "    print(new_text) \n",
    "else:\n",
    "    print(text)\n",
    "\n",
    "print('///////')\n",
    "print('///////')\n",
    "\n",
    "# Cut Text\n",
    "\n",
    "original_text = \"This is a Complex Statement.\"\n",
    "\n",
    "if \"Complex\" in original_text:\n",
    "    cut_text = original_text.split(\"Complex\")[1].strip()  \n",
    "    \n",
    "else:\n",
    "    print(original_text)\n",
    "\n",
    "    \n",
    "\n"
   ]
  },
  {
   "cell_type": "code",
   "execution_count": null,
   "id": "0625774d-7be6-434c-9283-4b1bd1380b3a",
   "metadata": {},
   "outputs": [],
   "source": []
  },
  {
   "cell_type": "code",
   "execution_count": null,
   "id": "8a06ed60-8f22-487b-a513-d7e2ef5b6436",
   "metadata": {},
   "outputs": [],
   "source": []
  }
 ],
 "metadata": {
  "kernelspec": {
   "display_name": "Python 3 (ipykernel)",
   "language": "python",
   "name": "python3"
  },
  "language_info": {
   "codemirror_mode": {
    "name": "ipython",
    "version": 3
   },
   "file_extension": ".py",
   "mimetype": "text/x-python",
   "name": "python",
   "nbconvert_exporter": "python",
   "pygments_lexer": "ipython3",
   "version": "3.11.7"
  }
 },
 "nbformat": 4,
 "nbformat_minor": 5
}
